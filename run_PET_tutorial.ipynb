{
 "cells": [
  {
   "cell_type": "markdown",
   "id": "1dba7033",
   "metadata": {},
   "source": [
    "This notebook is a tutorial for running PET.\n",
    "From the benchmark, we identified the optimal setting for running PET, which consists of 3 steps:\n",
    "1. perform differential expression analysis with DESeq2\n",
    "2. perform pathway analysis with underlying methods\n",
    "3. combine the result using PET\n",
    "\n",
    "File required:\n",
    "1. Data matrix, raw read count strongly recommended.\n",
    "2. Pathway file, in gmt format.\n",
    "\n",
    "Example data:\\\n",
    "We provided an example read count matrix text file and gmt pathway file (KEGG) as an example.\n",
    "\n",
    "Notes:\\\n",
    "Though template script and command for running GSEA and DESeq2 are provided, users should feel free to use any differential expression analysis methods and GSEA mode as wanted, as long as the output format is consistent for correctly parsing the results."
   ]
  },
  {
   "cell_type": "code",
   "execution_count": null,
   "outputs": [],
   "source": [
    "import pandas as pd\n",
    "%load_ext autoreload\n",
    "%autoreload 2"
   ],
   "metadata": {
    "collapsed": false
   },
   "id": "a17ff243e322b5b0"
  },
  {
   "cell_type": "code",
   "execution_count": 124,
   "id": "e4c4e48a",
   "metadata": {
    "scrolled": false,
    "ExecuteTime": {
     "end_time": "2024-01-31T20:20:58.950221Z",
     "start_time": "2024-01-31T20:20:58.878716Z"
    }
   },
   "outputs": [],
   "source": [
    "from fisher_test import run_ora\n",
    "from enrichr import run_enrichr\n",
    "from PET import run_PET\n",
    "from helper import *"
   ]
  },
  {
   "cell_type": "code",
   "execution_count": null,
   "id": "56a0face",
   "metadata": {
    "scrolled": false
   },
   "outputs": [],
   "source": [
    "# create result directory\n",
    "out_dir = 'example_new/'\n",
    "create_dir(out_dir)"
   ]
  },
  {
   "cell_type": "markdown",
   "id": "4628400f",
   "metadata": {},
   "source": [
    "**Step 1. Differential expression analysis with DESeq2**\\\n",
    "Based on Benchmark, the best way to run any pathway analysis method is to provide a pre-ranked gene list to the method. Here, we'll use the p-value from DESeq2 analysis results as the input to next step, which was shown to have superior performance than other ranking metrics.\\\n",
    "\\\n",
    "Here we provided two ways to run DESeq2:\n",
    "* The original [DESeq2](https://bioconductor.org/packages/release/bioc/html/DESeq2.html) in R, default option. The template script for running DESeq2 is provided in [deseq2_template.R](https://github.com/hedgehug/PET/blob/main/deseq2_template.R). A new Rscript tailored to user input will be written and executed, if method='R' specified.\n",
    "* [PyDESeq2](https://pydeseq2.readthedocs.io/en/latest/) in python, when method='Python' specified. \n",
    "\n",
    "\\\n",
    "Please note that we did observe ***inconsistency*** between DESeq2 R and PyDESeq2, we suggest to keep the dafualt setting of DESeq2 R versino.\n",
    "\\\n",
    "Note: **Raw read count** is highly recommended for DESeq2. Please format the gene expression matrix file as a tab-delimited text file, where first column as gene name, rest column as cond1, cond2, ...,condN expression **in order**. Please provide the order and sample number of groups/conditions in contrast file, in format 'condition_name\\tsample_num' for each condition in each row."
   ]
  },
  {
   "cell_type": "code",
   "execution_count": null,
   "outputs": [],
   "source": [
    "# run differential expression analysis through default DESeq2 R version\n",
    "\n",
    "# By default, PET will save all comparisons results to result_dir_path\n",
    "run_DEseq2(expr_file=out_dir+'example_data.txt', contrast_matrix_file='example_contrast.txt', result_dir_path=out_dir, method='R', script_file_name=out_dir+'deseq_analysis.all.R')\n",
    "\n",
    "# if only want one comparison saved, please provide group=[condition1, condition2] and result_file_path\n",
    "run_DEseq2(expr_file=out_dir+'example_data.txt', contrast_matrix_file='example_contrast.txt', groups= ['cond2', 'cond1'], result_file_path=out_dir+'cond2.vs.cond1.deseq_result.txt', method='R', script_file_name=out_dir+'deseq_analysis.cond2.vs.cond1.R')"
   ],
   "metadata": {
    "collapsed": false
   },
   "id": "31a80b123bc0b83"
  },
  {
   "cell_type": "code",
   "execution_count": null,
   "outputs": [],
   "source": [
    "# To run PyDESeq2, similar to DESeq2 R version, please specify method='Python'\n",
    "\n",
    "# By default, PET will save all comparisons results to result_dir_path\n",
    "run_DEseq2(expr_file=out_dir+'example_data.txt', contrast_matrix_file='example_contrast.txt', result_dir_path=out_dir, method='Python', cpu_num=10)\n",
    "\n",
    "# if only want one comparison saved, please provide group=[condition1, condition2] and result_file_path\n",
    "run_DEseq2(expr_file=out_dir+'example_data.txt', contrast_matrix_file='example_contrast.txt', groups= ['cond2', 'cond1'], result_file_path=out_dir+'cond2.vs.cond1.deseq_result.txt', method='R', script_file_name=out_dir+'deseq_analysis.cond2.vs.cond1.R')"
   ],
   "metadata": {
    "collapsed": false
   },
   "id": "d7bea241035a274c"
  },
  {
   "cell_type": "code",
   "execution_count": null,
   "id": "ca355d66",
   "metadata": {
    "scrolled": false
   },
   "outputs": [],
   "source": [
    "# format DESeq2 result, CSV file only, to .rnk file for GSEA, please do check the direction of DESeq2 result (log2FoldChange column)\n",
    "# if log2FoldChange>=0 means up-regulation, keep direction=1; otherwise, pass direction=-1\n",
    "\n",
    "generate_rank_file(deseq_result_file=out_dir+'cond1.vs.cond2.csv', out_file=out_dir+'cond1.vs.cond2.rnk', direction=1)"
   ]
  },
  {
   "cell_type": "markdown",
   "source": [
    "**Step 2: Run GSEA**\\\n",
    "Based on Benchmark, the best practice to run GSEA is to use GSEA preranked function, which we will provide -log10(p-value)*sign(logFC) as the weight for each gene. Here we provided two options to run GSEA:\n",
    "* [GSEAPY](https://gseapy.readthedocs.io/en/latest/introduction.html), default option.\n",
    "* [GSEA command line (all platforms)](http://www.gsea-msigdb.org/gsea/downloads.jsp).\n",
    "\n",
    "The results from two approaches are highly consistent. Please specify the path to gsea-cli.sh if using GSEA command line (all platforms)."
   ],
   "metadata": {
    "collapsed": false
   },
   "id": "413207ded0ee9e27"
  },
  {
   "cell_type": "code",
   "execution_count": null,
   "outputs": [],
   "source": [
    "# To run GSEA with GSEAPY, default option\n",
    "run_GSEA(prerank_file_path=out_dir+'cond1.vs.cond2.rnk', out_dir=out_dir, thread_num=10,\n",
    "         pathway_file='example_new/c2.cp.kegg.v2023.1.Hs.symbols.gmt', plot=False,\n",
    "         min_size=15, max_size=500)"
   ],
   "metadata": {
    "collapsed": false
   },
   "id": "ee6cb66c69ec89a8"
  },
  {
   "cell_type": "code",
   "execution_count": null,
   "outputs": [],
   "source": [
    "# To run GSEA command line, please specify gsea_cli_path\n",
    "run_GSEA(prerank_file_path=out_dir+'cond1.vs.cond2.rnk', out_dir=out_dir,\n",
    "         pathway_file='example_new/c2.cp.kegg.v2023.1.Hs.symbols.gmt', gsea_out_label='cond1.vs.cond2',\n",
    "         min_size=15, max_size=500, gsea_cli_path='/Users/luopin/GSEA_test/GSEA_cmd/gsea-cli.sh', method='cli')"
   ],
   "metadata": {
    "collapsed": false
   },
   "id": "5243979eb4467d76"
  },
  {
   "cell_type": "markdown",
   "id": "dd260f84",
   "metadata": {},
   "source": [
    "Before running other methods, we shall prune the pathways, which will remove pathways with gene_num > max_num and gene_num < min_num after removing any gene that's not present in the expression matrix."
   ]
  },
  {
   "cell_type": "code",
   "execution_count": null,
   "id": "82553708",
   "metadata": {
    "scrolled": false
   },
   "outputs": [],
   "source": [
    "# please keep the gene number setting same as GSEA command\n",
    "pruned_pathway_dict, gene_universe = prune_gmt(file_name='example_new/c2.cp.kegg.v2023.1.Hs.symbols.gmt', \n",
    "                                        out_file_name='example_new/c2.cp.kegg.v2023.1.Hs.symbols.cleaned.gmt', \n",
    "                                        expr_matrix_file='example_new/example_data.txt', \n",
    "                                        min_gene_num=15, max_gene_num=500)"
   ]
  },
  {
   "cell_type": "markdown",
   "id": "0118934f",
   "metadata": {},
   "source": [
    "Fisher test takes a set gene of interest and a pathway file (dict only here). We'll perform this step for both top up and down-regulated genes, sorted by DESeq2 result p-value."
   ]
  },
  {
   "cell_type": "code",
   "execution_count": 75,
   "id": "27924173",
   "metadata": {
    "scrolled": false,
    "ExecuteTime": {
     "end_time": "2024-01-30T22:42:24.613447Z",
     "start_time": "2024-01-30T22:42:24.500226Z"
    }
   },
   "outputs": [
    {
     "name": "stdout",
     "output_type": "stream",
     "text": [
      "Based on:\n",
      "p-value <=  0.5\n",
      "adjusted p-value <=  0.5\n",
      "fold change threshold >=  1\n",
      "base Mean >=  2\n",
      "top N =  200\n",
      "40 up-regulated DEGs\n",
      "14 down-regulated DEGs\n"
     ]
    }
   ],
   "source": [
    "# for extracting the top DEGs, we'll query the DESeq2 result file\n",
    "# please adjust the thresholds as needed and keep direction same as previously\n",
    "# since in the toy example, the samples are randomly sampled replicates, we'll keep a super loose threshold\n",
    "deg_dict = extract_top_gene(deseq_result_file=out_dir+'cond1.vs.cond2.csv', \n",
    "                            num_gene=200, pval_threshold=0.5, padj_threshold=0.5,\n",
    "                            fc_threshold=1, basemean_threshold=2,\n",
    "                            direction=1)\n"
   ]
  },
  {
   "cell_type": "code",
   "execution_count": 127,
   "id": "5c3a30a1",
   "metadata": {
    "scrolled": true,
    "ExecuteTime": {
     "end_time": "2024-01-31T20:21:23.008141Z",
     "start_time": "2024-01-31T20:21:22.931141Z"
    }
   },
   "outputs": [
    {
     "name": "stdout",
     "output_type": "stream",
     "text": [
      "Running ORA for genes in  up\n",
      "Results written to  example_new//cond1.vs.cond2.up.ora_result.txt\n",
      "********************\n",
      "Running ORA for genes in  down\n",
      "Results written to  example_new//cond1.vs.cond2.down.ora_result.txt\n",
      "********************\n"
     ]
    }
   ],
   "source": [
    "# run ORA for both sets of genes against the pathway file\n",
    "run_ora(pathway_dict=pruned_pathway_dict, deg_dict = deg_dict,\n",
    "                gene_universe_num=len(gene_universe), out_dir=out_dir, out_file_prefix='cond1.vs.cond2')\n"
   ]
  },
  {
   "cell_type": "markdown",
   "id": "751382f7",
   "metadata": {},
   "source": [
    "Running enrichr is similar to run fisher test, which requires a set of genes of interest and a pathway file.\\\n",
    "To caculate the final enrichment score, enrichr requires one step of permutation, **we recommend to set perm_num to 1000**.\\\n",
    "If the permutation file already exists, we'll use the existing one; if not, a new permutation will be performed. **NOTE**: the permutaiton step might take some time."
   ]
  },
  {
   "cell_type": "code",
   "execution_count": null,
   "id": "26b6c8cf",
   "metadata": {
    "scrolled": true
   },
   "outputs": [],
   "source": [
    "run_enrichr(pathway_dict=pruned_pathway_dict, gene_set=up_regulated_gene_set,\n",
    "            gene_universe=gene_universe, out_file_name='example/enrichr_up.txt', \n",
    "            permutation_num=1000, permutation_file_name='example/enrichr_kegg_permutation_1000.txt')\n",
    "run_enrichr(pathway_dict=pruned_pathway_dict, gene_set=down_regulated_gene_set,\n",
    "            gene_universe=gene_universe, out_file_name='example/enrichr_down.txt', \n",
    "            permutation_num=1000, permutation_file_name='example/enrichr_kegg_permutation_1000.txt')"
   ]
  },
  {
   "cell_type": "markdown",
   "id": "9dab8b90",
   "metadata": {},
   "source": [
    "After getting results from three underlying methods, the last step is to run PET. We'll perform this step for both up and down-regulated genes. "
   ]
  },
  {
   "cell_type": "code",
   "execution_count": null,
   "id": "74a85257",
   "metadata": {
    "scrolled": false
   },
   "outputs": [],
   "source": [
    "run_PET(fisher_result_file='example/fisher_up.txt', enrichr_result_file= 'example/enrichr_up.txt', \n",
    "        gsea_result_dir='example/example_test.GseaPreranked.1678566691197/', gsea_label='pos', \n",
    "        pathway_dict=pruned_pathway_dict, result_file='example/PET_output_enriched_poor_survival.txt')\n",
    "\n",
    "run_PET(fisher_result_file='example/fisher_down.txt', enrichr_result_file= 'example/enrichr_down.txt', \n",
    "        gsea_result_dir='example/example_test.GseaPreranked.1678566691197/', gsea_label='neg', \n",
    "        pathway_dict=pruned_pathway_dict, result_file='example/PET_output_enriched_better_survival.txt')\n"
   ]
  },
  {
   "cell_type": "markdown",
   "id": "dde1977c",
   "metadata": {},
   "source": [
    "The results of PET is a tab-delimited text file, used could choose to sort the results based on their preferred criteria. Based on the benchmark we developed, the most reliable result would be sorting the pathways based on **average rank**, which by default generates the PET rank. At the same time, the significance PET FDR is also a strong indicator in the analysis."
   ]
  },
  {
   "cell_type": "code",
   "execution_count": null,
   "id": "6e93de07",
   "metadata": {},
   "outputs": [],
   "source": []
  }
 ],
 "metadata": {
  "kernelspec": {
   "name": "pt",
   "language": "python",
   "display_name": "pt"
  },
  "language_info": {
   "codemirror_mode": {
    "name": "ipython",
    "version": 3
   },
   "file_extension": ".py",
   "mimetype": "text/x-python",
   "name": "python",
   "nbconvert_exporter": "python",
   "pygments_lexer": "ipython3",
   "version": "3.9.13"
  }
 },
 "nbformat": 4,
 "nbformat_minor": 5
}
