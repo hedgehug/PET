{
 "cells": [
  {
   "cell_type": "markdown",
   "id": "1dba7033",
   "metadata": {},
   "source": [
    "This notebook provides a step-by-step guide to run PET.\n",
    "\n",
    "There are three steps to run PET:\n",
    "Step 1. Perform differential gene expression analysis using DESeq2\n",
    "Step 2. Perform pathway analysis using underlying methods (i.e. GSEA, ORA, Enrichr)\n",
    "Step 3. Combine the outputs from above methods using PET\n",
    "\n",
    "Required files:\n",
    "* Pathways to be investigated (e.g. GO biological processes) as [.gmt files](https://software.broadinstitute.org/cancer/software/gsea/wiki/index.php/Data_formats#Gene_Set_Database_Formats). You can find an example pathway file [here](https://github.com/hedgehug/PET/blob/main/example/c2.cp.kegg.v2023.1.Hs.symbols.gmt). \n",
    "* Expression data from samples to be investigated, as a tab-delimited text file. **Raw counts** are highly recommended as required by DESeq2. The first column of the file should contain the gene symbols and the of rest columns should contain the expression values ordered by conditions. An example expression file is provided [here](https://github.com/hedgehug/PET/tree/main/example/example_data.txt). \n",
    "* A design matrix file defining the conditions and number of samples as a tab-delimited text file to be used by DESeq2. The first column should specify the condition name and the second column should indicate the number of samples. **The order and the number of samples should match the expression file above.** An example contrast file can be found [here](https://github.com/hedgehug/PET/tree/main/example/example_contrast.txt). \n",
    "\n",
    "\n",
    "\n",
    "Notes:\\\n",
    "We have provided a template script to run GSEA optimally (as defined by Benchmark) and [DESeq2](https://github.com/hedgehug/PET/blob/main/deseq2_template.R). However, these analyses could be performed using any different settings as long as the resulting file format meets PET's required format.\n"
   ]
  },
  {
   "cell_type": "code",
   "execution_count": 1,
   "id": "e4c4e48a",
   "metadata": {
    "ExecuteTime": {
     "end_time": "2024-02-01T16:38:48.935855Z",
     "start_time": "2024-02-01T16:38:48.862143Z"
    },
    "scrolled": false
   },
   "outputs": [],
   "source": [
    "from ora import run_ora\n",
    "from enrichr import run_enrichr\n",
    "from PET import run_PET\n",
    "from helper import *"
   ]
  },
  {
   "cell_type": "code",
   "execution_count": 2,
   "id": "56a0face",
   "metadata": {
    "scrolled": false
   },
   "outputs": [],
   "source": [
    "# create result directory\n",
    "out_dir = 'example/'\n",
    "create_dir(out_dir)"
   ]
  },
  {
   "cell_type": "markdown",
   "id": "4628400f",
   "metadata": {},
   "source": [
    "**Step 1. Perform differential gene expression analysis using DESeq2**\\\n",
    "\n",
    "Based on Benchmark, using a pre-ranked gene list derived from the p-values of DESeq2 analysis provides an optimal setting for pathway analysis.\\\n",
    "\n",
    "PET runs DESeq2 using either:\n",
    "* [DESeq2](https://bioconductor.org/packages/release/bioc/html/DESeq2.html) in R, default option. \n",
    "\n",
    "* [PyDESeq2](https://pydeseq2.readthedocs.io/en/latest/), when method='Python' specified. \n",
    "\n",
    "\\\n",
    "Please note that **discrepancies** have been observed between the R implementation of DESeq2 and PyDESeq2. Therefore, we suggest continuing to use the default DESeq2 version for R.\n"
   ]
  },
  {
   "cell_type": "code",
   "execution_count": 3,
   "id": "31a80b123bc0b83",
   "metadata": {
    "scrolled": true
   },
   "outputs": [
    {
     "name": "stdout",
     "output_type": "stream",
     "text": [
      "DESeq2 script written to example/deseq_analysis.all.R\n",
      "Start running R script example/deseq_analysis.all.R\n"
     ]
    },
    {
     "name": "stderr",
     "output_type": "stream",
     "text": [
      "Loading required package: S4Vectors\n",
      "Loading required package: stats4\n",
      "Loading required package: BiocGenerics\n",
      "Loading required package: parallel\n",
      "\n",
      "Attaching package: ‘BiocGenerics’\n",
      "\n",
      "The following objects are masked from ‘package:parallel’:\n",
      "\n",
      "    clusterApply, clusterApplyLB, clusterCall, clusterEvalQ,\n",
      "    clusterExport, clusterMap, parApply, parCapply, parLapply,\n",
      "    parLapplyLB, parRapply, parSapply, parSapplyLB\n",
      "\n",
      "The following objects are masked from ‘package:stats’:\n",
      "\n",
      "    IQR, mad, sd, var, xtabs\n",
      "\n",
      "The following objects are masked from ‘package:base’:\n",
      "\n",
      "    anyDuplicated, append, as.data.frame, basename, cbind, colnames,\n",
      "    dirname, do.call, duplicated, eval, evalq, Filter, Find, get, grep,\n",
      "    grepl, intersect, is.unsorted, lapply, Map, mapply, match, mget,\n",
      "    order, paste, pmax, pmax.int, pmin, pmin.int, Position, rank,\n",
      "    rbind, Reduce, rownames, sapply, setdiff, sort, table, tapply,\n",
      "    union, unique, unsplit, which, which.max, which.min\n",
      "\n",
      "\n",
      "Attaching package: ‘S4Vectors’\n",
      "\n",
      "The following object is masked from ‘package:base’:\n",
      "\n",
      "    expand.grid\n",
      "\n",
      "Loading required package: IRanges\n",
      "Loading required package: GenomicRanges\n",
      "Loading required package: GenomeInfoDb\n",
      "Loading required package: SummarizedExperiment\n",
      "Loading required package: Biobase\n",
      "Welcome to Bioconductor\n",
      "\n",
      "    Vignettes contain introductory material; view with\n",
      "    'browseVignettes()'. To cite Bioconductor, see\n",
      "    'citation(\"Biobase\")', and for packages 'citation(\"pkgname\")'.\n",
      "\n",
      "Loading required package: DelayedArray\n",
      "Loading required package: matrixStats\n",
      "\n",
      "Attaching package: ‘matrixStats’\n",
      "\n",
      "The following objects are masked from ‘package:Biobase’:\n",
      "\n",
      "    anyMissing, rowMedians\n",
      "\n",
      "Loading required package: BiocParallel\n",
      "\n",
      "Attaching package: ‘DelayedArray’\n",
      "\n",
      "The following objects are masked from ‘package:matrixStats’:\n",
      "\n",
      "    colMaxs, colMins, colRanges, rowMaxs, rowMins, rowRanges\n",
      "\n",
      "The following objects are masked from ‘package:base’:\n",
      "\n",
      "    aperm, apply, rowsum\n",
      "\n"
     ]
    },
    {
     "name": "stdout",
     "output_type": "stream",
     "text": [
      "class: DESeqDataSet \n",
      "dim: 53657 10 \n",
      "metadata(1): version\n",
      "assays(1): counts\n",
      "rownames(53657): TSPAN6 TNMD ... LINC01144 AC007389.5\n",
      "rowData names(0):\n",
      "colnames(10): TCGA.AA.3850 TCGA.AA.3845 ... TCGA.DM.A1HA TCGA.DM.A1HB\n",
      "colData names(1): condition\n"
     ]
    },
    {
     "name": "stderr",
     "output_type": "stream",
     "text": [
      "estimating size factors\n",
      "estimating dispersions\n",
      "gene-wise dispersion estimates\n",
      "mean-dispersion relationship\n",
      "final dispersion estimates\n",
      "fitting model and testing\n"
     ]
    },
    {
     "name": "stdout",
     "output_type": "stream",
     "text": [
      "[1] \"Comparing cond1 vs. cond2\"\n",
      "[1] \"Result saved to  example//cond1.vs.cond2.csv\"\n",
      "[1] \"Comparing cond1 vs. cond3\"\n",
      "[1] \"Result saved to  example//cond1.vs.cond3.csv\"\n",
      "[1] \"Comparing cond2 vs. cond3\"\n",
      "[1] \"Result saved to  example//cond2.vs.cond3.csv\"\n",
      "Analysis Done!\n"
     ]
    }
   ],
   "source": [
    "# To run differential expression analysis using default DESeq2 R version as below:\n",
    "# note that by default, PET saves all results to the result_dir_path (as defined above)\n",
    "\n",
    "run_DEseq2(expr_file=out_dir+'example_data.txt', contrast_matrix_file=out_dir+'example_contrast.txt', \n",
    "           result_dir_path=out_dir, method='R', script_file_name=out_dir+'deseq_analysis.all.R')\n"
   ]
  },
  {
   "cell_type": "code",
   "execution_count": 4,
   "id": "d76b495a",
   "metadata": {
    "scrolled": true
   },
   "outputs": [
    {
     "name": "stdout",
     "output_type": "stream",
     "text": [
      "DESeq2 script written to example/deseq_analysis.cond2.vs.cond1.R\n",
      "Start running R script example/deseq_analysis.cond2.vs.cond1.R\n"
     ]
    },
    {
     "name": "stderr",
     "output_type": "stream",
     "text": [
      "Loading required package: S4Vectors\n",
      "Loading required package: stats4\n",
      "Loading required package: BiocGenerics\n",
      "Loading required package: parallel\n",
      "\n",
      "Attaching package: ‘BiocGenerics’\n",
      "\n",
      "The following objects are masked from ‘package:parallel’:\n",
      "\n",
      "    clusterApply, clusterApplyLB, clusterCall, clusterEvalQ,\n",
      "    clusterExport, clusterMap, parApply, parCapply, parLapply,\n",
      "    parLapplyLB, parRapply, parSapply, parSapplyLB\n",
      "\n",
      "The following objects are masked from ‘package:stats’:\n",
      "\n",
      "    IQR, mad, sd, var, xtabs\n",
      "\n",
      "The following objects are masked from ‘package:base’:\n",
      "\n",
      "    anyDuplicated, append, as.data.frame, basename, cbind, colnames,\n",
      "    dirname, do.call, duplicated, eval, evalq, Filter, Find, get, grep,\n",
      "    grepl, intersect, is.unsorted, lapply, Map, mapply, match, mget,\n",
      "    order, paste, pmax, pmax.int, pmin, pmin.int, Position, rank,\n",
      "    rbind, Reduce, rownames, sapply, setdiff, sort, table, tapply,\n",
      "    union, unique, unsplit, which, which.max, which.min\n",
      "\n",
      "\n",
      "Attaching package: ‘S4Vectors’\n",
      "\n",
      "The following object is masked from ‘package:base’:\n",
      "\n",
      "    expand.grid\n",
      "\n",
      "Loading required package: IRanges\n",
      "Loading required package: GenomicRanges\n",
      "Loading required package: GenomeInfoDb\n",
      "Loading required package: SummarizedExperiment\n",
      "Loading required package: Biobase\n",
      "Welcome to Bioconductor\n",
      "\n",
      "    Vignettes contain introductory material; view with\n",
      "    'browseVignettes()'. To cite Bioconductor, see\n",
      "    'citation(\"Biobase\")', and for packages 'citation(\"pkgname\")'.\n",
      "\n",
      "Loading required package: DelayedArray\n",
      "Loading required package: matrixStats\n",
      "\n",
      "Attaching package: ‘matrixStats’\n",
      "\n",
      "The following objects are masked from ‘package:Biobase’:\n",
      "\n",
      "    anyMissing, rowMedians\n",
      "\n",
      "Loading required package: BiocParallel\n",
      "\n",
      "Attaching package: ‘DelayedArray’\n",
      "\n",
      "The following objects are masked from ‘package:matrixStats’:\n",
      "\n",
      "    colMaxs, colMins, colRanges, rowMaxs, rowMins, rowRanges\n",
      "\n",
      "The following objects are masked from ‘package:base’:\n",
      "\n",
      "    aperm, apply, rowsum\n",
      "\n"
     ]
    },
    {
     "name": "stdout",
     "output_type": "stream",
     "text": [
      "class: DESeqDataSet \n",
      "dim: 53657 10 \n",
      "metadata(1): version\n",
      "assays(1): counts\n",
      "rownames(53657): TSPAN6 TNMD ... LINC01144 AC007389.5\n",
      "rowData names(0):\n",
      "colnames(10): TCGA.AA.3850 TCGA.AA.3845 ... TCGA.DM.A1HA TCGA.DM.A1HB\n",
      "colData names(1): condition\n"
     ]
    },
    {
     "name": "stderr",
     "output_type": "stream",
     "text": [
      "estimating size factors\n",
      "estimating dispersions\n",
      "gene-wise dispersion estimates\n",
      "mean-dispersion relationship\n",
      "final dispersion estimates\n",
      "fitting model and testing\n"
     ]
    },
    {
     "name": "stdout",
     "output_type": "stream",
     "text": [
      "[1] \"Comparing cond2 vs. cond1\"\n",
      "[1] \"Result saved to  example/cond2.vs.cond1.deseq_result.txt\"\n",
      "Analysis Done!\n"
     ]
    }
   ],
   "source": [
    "# if only one of the comparisons is needed for the downstream analyses\n",
    "# please provide group=[condition1, condition2] and result_file_path\n",
    "run_DEseq2(expr_file=out_dir+'example_data.txt', contrast_matrix_file=out_dir+'example_contrast.txt', \n",
    "           groups= ['cond2', 'cond1'], result_file_path=out_dir+'cond2.vs.cond1.deseq_result.txt', \n",
    "           method='R', script_file_name=out_dir+'deseq_analysis.cond2.vs.cond1.R')"
   ]
  },
  {
   "cell_type": "code",
   "execution_count": 5,
   "id": "3f5f93e7",
   "metadata": {},
   "outputs": [
    {
     "name": "stdout",
     "output_type": "stream",
     "text": [
      "10 samples\n",
      "53657 genes\n",
      "3 conditions\n"
     ]
    },
    {
     "name": "stderr",
     "output_type": "stream",
     "text": [
      "Fitting size factors...\n",
      "... done in 0.02 seconds.\n",
      "\n",
      "Fitting dispersions...\n",
      "... done in 4.31 seconds.\n",
      "\n",
      "Fitting dispersion trend curve...\n",
      "... done in 2.34 seconds.\n",
      "\n",
      "Fitting MAP dispersions...\n",
      "... done in 4.64 seconds.\n",
      "\n",
      "Fitting LFCs...\n",
      "... done in 4.34 seconds.\n",
      "\n",
      "Refitting 0 outliers.\n",
      "\n",
      "Running Wald tests...\n"
     ]
    },
    {
     "name": "stdout",
     "output_type": "stream",
     "text": [
      "Comparing  cond1 .vs. cond2\n"
     ]
    },
    {
     "name": "stderr",
     "output_type": "stream",
     "text": [
      "... done in 2.33 seconds.\n",
      "\n"
     ]
    },
    {
     "name": "stdout",
     "output_type": "stream",
     "text": [
      "Log2 fold change & Wald test p-value: condition cond1 vs cond2\n",
      "               baseMean  log2FoldChange     lfcSE      stat    pvalue  \\\n",
      "Gene                                                                    \n",
      "TSPAN6      2713.493826       -0.512394  0.456068 -1.123502  0.261224   \n",
      "TNMD           5.937313       -0.513815  1.363464 -0.376845  0.706288   \n",
      "DPM1        1127.214535       -0.527339  0.677807 -0.778007  0.436565   \n",
      "SCYL3        461.262837       -0.107010  0.316047 -0.338590  0.734919   \n",
      "C1orf112     336.957075       -1.047450  0.456055 -2.296763  0.021632   \n",
      "...                 ...             ...       ...       ...       ...   \n",
      "LINC02246      9.395658        0.741933  1.228398  0.603984  0.545854   \n",
      "AC233263.6     0.221389        1.398720  4.213062  0.331996  0.739892   \n",
      "HERC2P7        0.053885        0.656822  4.346304  0.151122  0.879880   \n",
      "LINC01144     23.140440        0.855266  0.713613  1.198500  0.230722   \n",
      "AC007389.5     0.868972        1.359826  3.215577  0.422887  0.672378   \n",
      "\n",
      "                padj  \n",
      "Gene                  \n",
      "TSPAN6      0.992061  \n",
      "TNMD        0.992061  \n",
      "DPM1        0.992061  \n",
      "SCYL3       0.992061  \n",
      "C1orf112    0.992061  \n",
      "...              ...  \n",
      "LINC02246   0.992061  \n",
      "AC233263.6  0.992061  \n",
      "HERC2P7     0.992061  \n",
      "LINC01144   0.992061  \n",
      "AC007389.5  0.992061  \n",
      "\n",
      "[53657 rows x 6 columns]\n",
      "Results written to  example//cond1.vs.cond2.PyDESeq2_result.csv\n",
      "Comparing  cond1 .vs. cond3\n"
     ]
    },
    {
     "name": "stderr",
     "output_type": "stream",
     "text": [
      "Running Wald tests...\n",
      "... done in 2.33 seconds.\n",
      "\n"
     ]
    },
    {
     "name": "stdout",
     "output_type": "stream",
     "text": [
      "Log2 fold change & Wald test p-value: condition cond1 vs cond3\n",
      "               baseMean  log2FoldChange     lfcSE      stat    pvalue  \\\n",
      "Gene                                                                    \n",
      "TSPAN6      2713.493826        1.154604  0.456367  2.529992  0.011407   \n",
      "TNMD           5.937313        2.406839  1.487954  1.617549  0.105760   \n",
      "DPM1        1127.214535       -0.448179  0.677761 -0.661265  0.508442   \n",
      "SCYL3        461.262837       -0.322971  0.315385 -1.024053  0.305810   \n",
      "C1orf112     336.957075       -0.042617  0.456985 -0.093257  0.925699   \n",
      "...                 ...             ...       ...       ...       ...   \n",
      "LINC02246      9.395658       -2.181930  1.145896 -1.904126  0.056894   \n",
      "AC233263.6     0.221389        0.656488  3.986285  0.164687  0.869191   \n",
      "HERC2P7        0.053885       -0.085411  4.126855 -0.020696  0.983488   \n",
      "LINC01144     23.140440       -0.691821  0.686955 -1.007084  0.313895   \n",
      "AC007389.5     0.868972        3.662723  3.631056  1.008721  0.313108   \n",
      "\n",
      "                padj  \n",
      "Gene                  \n",
      "TSPAN6      0.157913  \n",
      "TNMD             NaN  \n",
      "DPM1        0.857180  \n",
      "SCYL3       0.729369  \n",
      "C1orf112    0.983119  \n",
      "...              ...  \n",
      "LINC02246   0.353362  \n",
      "AC233263.6       NaN  \n",
      "HERC2P7          NaN  \n",
      "LINC01144   0.734140  \n",
      "AC007389.5       NaN  \n",
      "\n",
      "[53657 rows x 6 columns]\n",
      "Results written to  example//cond1.vs.cond3.PyDESeq2_result.csv\n",
      "Comparing  cond2 .vs. cond3\n"
     ]
    },
    {
     "name": "stderr",
     "output_type": "stream",
     "text": [
      "Running Wald tests...\n",
      "... done in 2.40 seconds.\n",
      "\n"
     ]
    },
    {
     "name": "stdout",
     "output_type": "stream",
     "text": [
      "Log2 fold change & Wald test p-value: condition cond2 vs cond3\n",
      "               baseMean  log2FoldChange     lfcSE      stat    pvalue  \\\n",
      "Gene                                                                    \n",
      "TSPAN6      2713.493826        1.666998  0.487673  3.418266  0.000630   \n",
      "TNMD           5.937313        2.920655  1.553067  1.880572  0.060030   \n",
      "DPM1        1127.214535        0.079159  0.724219  0.109303  0.912962   \n",
      "SCYL3        461.262837       -0.215961  0.336120 -0.642510  0.520542   \n",
      "C1orf112     336.957075        1.004832  0.486094  2.067159  0.038719   \n",
      "...                 ...             ...       ...       ...       ...   \n",
      "LINC02246      9.395658       -2.923862  1.242310 -2.353570  0.018594   \n",
      "AC233263.6     0.221389       -0.742232  4.445106 -0.166977  0.867388   \n",
      "HERC2P7        0.053885       -0.742232  4.445107 -0.166977  0.867388   \n",
      "LINC01144     23.140440       -1.547086  0.742774 -2.082851  0.037265   \n",
      "AC007389.5     0.868972        2.302897  3.872216  0.594723  0.552028   \n",
      "\n",
      "                padj  \n",
      "Gene                  \n",
      "TSPAN6      0.052522  \n",
      "TNMD             NaN  \n",
      "DPM1        0.986413  \n",
      "SCYL3       0.891581  \n",
      "C1orf112    0.382241  \n",
      "...              ...  \n",
      "LINC02246   0.280898  \n",
      "AC233263.6       NaN  \n",
      "HERC2P7          NaN  \n",
      "LINC01144   0.376417  \n",
      "AC007389.5       NaN  \n",
      "\n",
      "[53657 rows x 6 columns]\n",
      "Results written to  example//cond2.vs.cond3.PyDESeq2_result.csv\n",
      "Done!\n"
     ]
    }
   ],
   "source": [
    "# Alternatively, to run PyDESeq2, similar to DESeq2 R version, please specify method='Python' as below: \n",
    "# By default, PET will save all comparisons results to result_dir_path\n",
    "run_DEseq2(expr_file=out_dir+'example_data.txt', contrast_matrix_file=out_dir+'example_contrast.txt', \n",
    "           result_dir_path=out_dir, method='Python', cpu_num=10)"
   ]
  },
  {
   "cell_type": "code",
   "execution_count": 6,
   "id": "d7bea241035a274c",
   "metadata": {},
   "outputs": [
    {
     "name": "stdout",
     "output_type": "stream",
     "text": [
      "10 samples\n",
      "53657 genes\n",
      "3 conditions\n"
     ]
    },
    {
     "name": "stderr",
     "output_type": "stream",
     "text": [
      "Fitting size factors...\n",
      "... done in 0.02 seconds.\n",
      "\n",
      "Fitting dispersions...\n",
      "... done in 4.39 seconds.\n",
      "\n",
      "Fitting dispersion trend curve...\n",
      "... done in 2.12 seconds.\n",
      "\n",
      "Fitting MAP dispersions...\n",
      "... done in 4.69 seconds.\n",
      "\n",
      "Fitting LFCs...\n",
      "... done in 4.33 seconds.\n",
      "\n",
      "Refitting 0 outliers.\n",
      "\n",
      "Running Wald tests...\n"
     ]
    },
    {
     "name": "stdout",
     "output_type": "stream",
     "text": [
      "Comparing  cond2 .vs. cond1\n"
     ]
    },
    {
     "name": "stderr",
     "output_type": "stream",
     "text": [
      "... done in 2.41 seconds.\n",
      "\n"
     ]
    },
    {
     "name": "stdout",
     "output_type": "stream",
     "text": [
      "Log2 fold change & Wald test p-value: condition cond2 vs cond1\n",
      "               baseMean  log2FoldChange     lfcSE      stat    pvalue  \\\n",
      "Gene                                                                    \n",
      "TSPAN6      2713.493826        0.512394  0.456068  1.123502  0.261224   \n",
      "TNMD           5.937313        0.513815  1.363464  0.376845  0.706288   \n",
      "DPM1        1127.214535        0.527339  0.677807  0.778007  0.436565   \n",
      "SCYL3        461.262837        0.107010  0.316047  0.338590  0.734919   \n",
      "C1orf112     336.957075        1.047450  0.456055  2.296763  0.021632   \n",
      "...                 ...             ...       ...       ...       ...   \n",
      "LINC02246      9.395658       -0.741933  1.228398 -0.603984  0.545854   \n",
      "AC233263.6     0.221389       -1.398720  4.213062 -0.331996  0.739892   \n",
      "HERC2P7        0.053885       -0.656822  4.346304 -0.151122  0.879880   \n",
      "LINC01144     23.140440       -0.855266  0.713613 -1.198500  0.230722   \n",
      "AC007389.5     0.868972       -1.359826  3.215577 -0.422887  0.672378   \n",
      "\n",
      "                padj  \n",
      "Gene                  \n",
      "TSPAN6      0.992061  \n",
      "TNMD        0.992061  \n",
      "DPM1        0.992061  \n",
      "SCYL3       0.992061  \n",
      "C1orf112    0.992061  \n",
      "...              ...  \n",
      "LINC02246   0.992061  \n",
      "AC233263.6  0.992061  \n",
      "HERC2P7     0.992061  \n",
      "LINC01144   0.992061  \n",
      "AC007389.5  0.992061  \n",
      "\n",
      "[53657 rows x 6 columns]\n",
      "Results written to  example/cond2.vs.cond1.PyDESeq2_result.csv\n",
      "Done!\n"
     ]
    }
   ],
   "source": [
    "# similarly, if only one of the comparison is needed for the downstream analyses\n",
    "# please provide group=[condition1, condition2] and result_file_path\n",
    "run_DEseq2(expr_file=out_dir+'example_data.txt', contrast_matrix_file=out_dir+'example_contrast.txt', \n",
    "           groups= ['cond2', 'cond1'], result_file_path=out_dir+'cond2.vs.cond1.PyDESeq2_result.csv', \n",
    "           method='Python', cpu_num=10)"
   ]
  },
  {
   "cell_type": "markdown",
   "id": "2de1922bdd5d6ea2",
   "metadata": {},
   "source": [
    "Note that a prefix/comparison_name is specified for all the output files and PET will use files associated with this prefix for the following steps."
   ]
  },
  {
   "cell_type": "code",
   "execution_count": 3,
   "id": "38309551485edf4a",
   "metadata": {
    "ExecuteTime": {
     "end_time": "2024-01-31T22:06:49.104883Z",
     "start_time": "2024-01-31T22:06:49.035176Z"
    }
   },
   "outputs": [],
   "source": [
    "prefix = 'cond1.vs.cond3'"
   ]
  },
  {
   "cell_type": "code",
   "execution_count": 16,
   "id": "ca355d66",
   "metadata": {
    "ExecuteTime": {
     "end_time": "2024-01-31T22:06:50.483925Z",
     "start_time": "2024-01-31T22:06:49.928338Z"
    },
    "scrolled": false
   },
   "outputs": [
    {
     "name": "stdout",
     "output_type": "stream",
     "text": [
      "Rank file written to  example/cond1.vs.cond3.rnk\n"
     ]
    }
   ],
   "source": [
    "# To generate rank file (.rnk) for GSEA analysis from DESeq2 result in CSV format:\n",
    "# Please double check to ensure that the direction reported by DESeq2 result (i.e. log2FoldChange) matches the desired comparison \n",
    "# if the direction does not match the desired contrast, you may change the direction=-1.\n",
    "\n",
    "generate_rank_file(deseq_result_file=out_dir+prefix+'.csv', out_file=out_dir+prefix+'.rnk', direction=1)"
   ]
  },
  {
   "cell_type": "markdown",
   "id": "e18cb7ce",
   "metadata": {},
   "source": [
    "**Step 2. Perform pathway analysis using underlying methods (i.e. GSEA, ORA, Enrichr)**\n",
    "\n",
    "Based on Benchmark, the best practice to run GSEA is providing a pre-ranked gene list ordered based on log10(p-value)*sign(logFC). \n",
    "\n",
    "PET can run GSEA using either:\n",
    "\n",
    "* [GSEApy](https://gseapy.readthedocs.io/en/latest/introduction.html), default option. or\n",
    "* [GSEA command line (all platforms)](http://www.gsea-msigdb.org/gsea/downloads.jsp).\n"
   ]
  },
  {
   "cell_type": "code",
   "execution_count": 9,
   "id": "ee6cb66c69ec89a8",
   "metadata": {
    "ExecuteTime": {
     "end_time": "2024-01-31T22:08:17.412647Z",
     "start_time": "2024-01-31T22:07:36.368101Z"
    }
   },
   "outputs": [
    {
     "name": "stderr",
     "output_type": "stream",
     "text": [
      "2024-02-01 12:13:27,966 [WARNING] Duplicated values found in preranked stats: 43.59% of genes\n",
      "The order of those genes will be arbitrary, which may produce unexpected results.\n",
      "2024-02-01 12:13:27,967 [INFO] Parsing data files for GSEA.............................\n",
      "2024-02-01 12:13:27,979 [INFO] 0010 gene_sets have been filtered out when max_size=500 and min_size=15\n",
      "2024-02-01 12:13:27,981 [INFO] 0176 gene_sets used for further statistical testing.....\n",
      "2024-02-01 12:13:27,981 [INFO] Start to run GSEA...Might take a while..................\n",
      "2024-02-01 12:14:08,780 [INFO] Start to generate gseapy reports, and produce figures...\n",
      "2024-02-01 12:14:08,781 [INFO] Congratulations. GSEApy runs successfully................\n",
      "\n"
     ]
    }
   ],
   "source": [
    "# To run GSEA with GSEApy, default option\n",
    "run_GSEA(prerank_file_path=out_dir+prefix+'.rnk', out_dir=out_dir, thread_num=10,\n",
    "         pathway_file='example/c2.cp.kegg.v2023.1.Hs.symbols.gmt', plot=False,\n",
    "         min_size=15, max_size=500)"
   ]
  },
  {
   "cell_type": "code",
   "execution_count": 10,
   "id": "5243979eb4467d76",
   "metadata": {
    "ExecuteTime": {
     "end_time": "2024-01-31T22:10:03.017787Z",
     "start_time": "2024-01-31T22:09:27.348458Z"
    },
    "scrolled": true
   },
   "outputs": [
    {
     "name": "stdout",
     "output_type": "stream",
     "text": [
      "Start running GSEA!\n",
      "Commandas to run GSEA: ../../GSEA_cmd/gsea-cli.sh GSEAPreranked -gmx example/c2.cp.kegg.v2023.1.Hs.symbols.gmt -collapse No_Collapse -mode Max_probe -norm meandiv -nperm 1000 -rnk example/cond1.vs.cond3.rnk -scoring_scheme weighted -rpt_label cond1.vs.cond3 -create_svgs false -include_only_symbols true -make_sets true -plot_top_x 5 -rnd_seed 42 -set_max 500 -set_min 15 -zip_report false -out example/\n",
      "Using system JDK.\n"
     ]
    },
    {
     "name": "stderr",
     "output_type": "stream",
     "text": [
      "WARNING: package com.sun.java.swing.plaf.windows not in java.desktop\n",
      "WARNING: package sun.awt.windows not in java.desktop\n"
     ]
    },
    {
     "name": "stdout",
     "output_type": "stream",
     "text": [
      "485      [INFO  ] - Parameters passing to GSEAPreranked.main:\n",
      "487      [INFO  ] - rnk\texample/cond1.vs.cond3.rnk\n",
      "487      [INFO  ] - gmx\texample/c2.cp.kegg.v2023.1.Hs.symbols.gmt\n",
      "487      [INFO  ] - rpt_label\tcond1.vs.cond3\n",
      "487      [INFO  ] - collapse\tNo_Collapse\n",
      "487      [INFO  ] - zip_report\tfalse\n",
      "487      [INFO  ] - gui\tfalse\n",
      "487      [INFO  ] - out\texample/\n",
      "487      [INFO  ] - mode\tMax_probe\n",
      "487      [INFO  ] - norm\tmeandiv\n",
      "487      [INFO  ] - nperm\t1000\n",
      "487      [INFO  ] - scoring_scheme\tweighted\n",
      "487      [INFO  ] - include_only_symbols\ttrue\n",
      "487      [INFO  ] - make_sets\ttrue\n",
      "487      [INFO  ] - plot_top_x\t5\n",
      "487      [INFO  ] - rnd_seed\t42\n",
      "487      [INFO  ] - create_svgs\tfalse\n",
      "487      [INFO  ] - set_max\t500\n",
      "487      [INFO  ] - set_min\t15\n",
      "524      [INFO  ] - Begun importing: RankedList from: example/cond1.vs.cond3.rnk\n",
      "952      [INFO  ] - No ranked list collapsing was done .. using original as is\n",
      "to parse>example/c2.cp.kegg.v2023.1.Hs.symbols.gmt< got: [example/c2.cp.kegg.v2023.1.Hs.symbols.gmt]\n",
      "953      [INFO  ] - Begun importing: GeneSetMatrix from: c2.cp.kegg.v2023.1.Hs.symbols.gmt\n",
      "981      [INFO  ] - Got gsets: 186 now preprocessing them ... min: 15 max: 500\n",
      "1000     [INFO  ] - Done preproc for smaller than: 15\n",
      "shuffleGeneSet for GeneSet 1/176 nperm: 1000\n",
      "GeneSetCohorted: 501 / 1000\n",
      "GeneSetCohorted_scored: 501 / 1000\n",
      "GeneSetCohorted: 501 / 1000\n",
      "GeneSetCohorted_scored: 501 / 1000\n",
      "GeneSetCohorted: 501 / 1000\n",
      "GeneSetCohorted_scored: 501 / 1000\n",
      "GeneSetCohorted: 501 / 1000\n",
      "GeneSetCohorted_scored: 501 / 1000\n",
      "GeneSetCohorted: 501 / 1000\n",
      "GeneSetCohorted_scored: 501 / 1000\n",
      "shuffleGeneSet for GeneSet 6/176 nperm: 1000\n",
      "GeneSetCohorted: 501 / 1000\n",
      "GeneSetCohorted_scored: 501 / 1000\n",
      "GeneSetCohorted: 501 / 1000\n",
      "GeneSetCohorted_scored: 501 / 1000\n",
      "GeneSetCohorted: 501 / 1000\n",
      "GeneSetCohorted_scored: 501 / 1000\n",
      "GeneSetCohorted: 501 / 1000\n",
      "GeneSetCohorted_scored: 501 / 1000\n",
      "GeneSetCohorted: 501 / 1000\n",
      "GeneSetCohorted_scored: 501 / 1000\n",
      "shuffleGeneSet for GeneSet 11/176 nperm: 1000\n",
      "GeneSetCohorted: 501 / 1000\n",
      "GeneSetCohorted_scored: 501 / 1000\n",
      "GeneSetCohorted: 501 / 1000\n",
      "GeneSetCohorted_scored: 501 / 1000\n",
      "GeneSetCohorted: 501 / 1000\n",
      "GeneSetCohorted_scored: 501 / 1000\n",
      "GeneSetCohorted: 501 / 1000\n",
      "GeneSetCohorted_scored: 501 / 1000\n",
      "GeneSetCohorted: 501 / 1000\n",
      "GeneSetCohorted_scored: 501 / 1000\n",
      "shuffleGeneSet for GeneSet 16/176 nperm: 1000\n",
      "GeneSetCohorted: 501 / 1000\n",
      "GeneSetCohorted_scored: 501 / 1000\n",
      "GeneSetCohorted: 501 / 1000\n",
      "GeneSetCohorted_scored: 501 / 1000\n",
      "GeneSetCohorted: 501 / 1000\n",
      "GeneSetCohorted_scored: 501 / 1000\n",
      "GeneSetCohorted: 501 / 1000\n",
      "GeneSetCohorted_scored: 501 / 1000\n",
      "GeneSetCohorted: 501 / 1000\n",
      "GeneSetCohorted_scored: 501 / 1000\n",
      "shuffleGeneSet for GeneSet 21/176 nperm: 1000\n",
      "GeneSetCohorted: 501 / 1000\n",
      "GeneSetCohorted_scored: 501 / 1000\n",
      "GeneSetCohorted: 501 / 1000\n",
      "GeneSetCohorted_scored: 501 / 1000\n",
      "GeneSetCohorted: 501 / 1000\n",
      "GeneSetCohorted_scored: 501 / 1000\n",
      "GeneSetCohorted: 501 / 1000\n",
      "GeneSetCohorted_scored: 501 / 1000\n",
      "GeneSetCohorted: 501 / 1000\n",
      "GeneSetCohorted_scored: 501 / 1000\n",
      "shuffleGeneSet for GeneSet 26/176 nperm: 1000\n",
      "GeneSetCohorted: 501 / 1000\n",
      "GeneSetCohorted_scored: 501 / 1000\n",
      "GeneSetCohorted: 501 / 1000\n",
      "GeneSetCohorted_scored: 501 / 1000\n",
      "GeneSetCohorted: 501 / 1000\n",
      "GeneSetCohorted_scored: 501 / 1000\n",
      "GeneSetCohorted: 501 / 1000\n",
      "GeneSetCohorted_scored: 501 / 1000\n",
      "GeneSetCohorted: 501 / 1000\n",
      "GeneSetCohorted_scored: 501 / 1000\n",
      "shuffleGeneSet for GeneSet 31/176 nperm: 1000\n",
      "GeneSetCohorted: 501 / 1000\n",
      "GeneSetCohorted_scored: 501 / 1000\n",
      "GeneSetCohorted: 501 / 1000\n",
      "GeneSetCohorted_scored: 501 / 1000\n",
      "GeneSetCohorted: 501 / 1000\n",
      "GeneSetCohorted_scored: 501 / 1000\n",
      "GeneSetCohorted: 501 / 1000\n",
      "GeneSetCohorted_scored: 501 / 1000\n",
      "GeneSetCohorted: 501 / 1000\n",
      "GeneSetCohorted_scored: 501 / 1000\n",
      "shuffleGeneSet for GeneSet 36/176 nperm: 1000\n",
      "GeneSetCohorted: 501 / 1000\n",
      "GeneSetCohorted_scored: 501 / 1000\n",
      "GeneSetCohorted: 501 / 1000\n",
      "GeneSetCohorted_scored: 501 / 1000\n",
      "GeneSetCohorted: 501 / 1000\n",
      "GeneSetCohorted_scored: 501 / 1000\n",
      "GeneSetCohorted: 501 / 1000\n",
      "GeneSetCohorted_scored: 501 / 1000\n",
      "GeneSetCohorted: 501 / 1000\n",
      "GeneSetCohorted_scored: 501 / 1000\n",
      "shuffleGeneSet for GeneSet 41/176 nperm: 1000\n",
      "GeneSetCohorted: 501 / 1000\n",
      "GeneSetCohorted_scored: 501 / 1000\n",
      "GeneSetCohorted: 501 / 1000\n",
      "GeneSetCohorted_scored: 501 / 1000\n",
      "GeneSetCohorted: 501 / 1000\n",
      "GeneSetCohorted_scored: 501 / 1000\n",
      "GeneSetCohorted: 501 / 1000\n",
      "GeneSetCohorted_scored: 501 / 1000\n",
      "GeneSetCohorted: 501 / 1000\n",
      "GeneSetCohorted_scored: 501 / 1000\n",
      "shuffleGeneSet for GeneSet 46/176 nperm: 1000\n",
      "GeneSetCohorted: 501 / 1000\n",
      "GeneSetCohorted_scored: 501 / 1000\n",
      "GeneSetCohorted: 501 / 1000\n",
      "GeneSetCohorted_scored: 501 / 1000\n",
      "GeneSetCohorted: 501 / 1000\n",
      "GeneSetCohorted_scored: 501 / 1000\n",
      "GeneSetCohorted: 501 / 1000\n",
      "GeneSetCohorted_scored: 501 / 1000\n",
      "GeneSetCohorted: 501 / 1000\n",
      "GeneSetCohorted_scored: 501 / 1000\n",
      "shuffleGeneSet for GeneSet 51/176 nperm: 1000\n",
      "GeneSetCohorted: 501 / 1000\n",
      "GeneSetCohorted_scored: 501 / 1000\n",
      "GeneSetCohorted: 501 / 1000\n",
      "GeneSetCohorted_scored: 501 / 1000\n",
      "GeneSetCohorted: 501 / 1000\n",
      "GeneSetCohorted_scored: 501 / 1000\n",
      "GeneSetCohorted: 501 / 1000\n",
      "GeneSetCohorted_scored: 501 / 1000\n",
      "GeneSetCohorted: 501 / 1000\n",
      "GeneSetCohorted_scored: 501 / 1000\n",
      "shuffleGeneSet for GeneSet 56/176 nperm: 1000\n",
      "GeneSetCohorted: 501 / 1000\n",
      "GeneSetCohorted_scored: 501 / 1000\n",
      "GeneSetCohorted: 501 / 1000\n",
      "GeneSetCohorted_scored: 501 / 1000\n",
      "GeneSetCohorted: 501 / 1000\n",
      "GeneSetCohorted_scored: 501 / 1000\n",
      "GeneSetCohorted: 501 / 1000\n",
      "GeneSetCohorted_scored: 501 / 1000\n",
      "GeneSetCohorted: 501 / 1000\n",
      "GeneSetCohorted_scored: 501 / 1000\n",
      "shuffleGeneSet for GeneSet 61/176 nperm: 1000\n",
      "GeneSetCohorted: 501 / 1000\n",
      "GeneSetCohorted_scored: 501 / 1000\n",
      "GeneSetCohorted: 501 / 1000\n",
      "GeneSetCohorted_scored: 501 / 1000\n",
      "GeneSetCohorted: 501 / 1000\n",
      "GeneSetCohorted_scored: 501 / 1000\n",
      "GeneSetCohorted: 501 / 1000\n",
      "GeneSetCohorted_scored: 501 / 1000\n",
      "GeneSetCohorted: 501 / 1000\n",
      "GeneSetCohorted_scored: 501 / 1000\n",
      "shuffleGeneSet for GeneSet 66/176 nperm: 1000\n",
      "GeneSetCohorted: 501 / 1000\n",
      "GeneSetCohorted_scored: 501 / 1000\n",
      "GeneSetCohorted: 501 / 1000\n",
      "GeneSetCohorted_scored: 501 / 1000\n",
      "GeneSetCohorted: 501 / 1000\n",
      "GeneSetCohorted_scored: 501 / 1000\n",
      "GeneSetCohorted: 501 / 1000\n",
      "GeneSetCohorted_scored: 501 / 1000\n",
      "GeneSetCohorted: 501 / 1000\n",
      "GeneSetCohorted_scored: 501 / 1000\n",
      "shuffleGeneSet for GeneSet 71/176 nperm: 1000\n",
      "GeneSetCohorted: 501 / 1000\n",
      "GeneSetCohorted_scored: 501 / 1000\n",
      "GeneSetCohorted: 501 / 1000\n",
      "GeneSetCohorted_scored: 501 / 1000\n",
      "GeneSetCohorted: 501 / 1000\n",
      "GeneSetCohorted_scored: 501 / 1000\n",
      "GeneSetCohorted: 501 / 1000\n",
      "GeneSetCohorted_scored: 501 / 1000\n",
      "GeneSetCohorted: 501 / 1000\n",
      "GeneSetCohorted_scored: 501 / 1000\n",
      "shuffleGeneSet for GeneSet 76/176 nperm: 1000\n",
      "GeneSetCohorted: 501 / 1000\n",
      "GeneSetCohorted_scored: 501 / 1000\n",
      "GeneSetCohorted: 501 / 1000\n",
      "GeneSetCohorted_scored: 501 / 1000\n",
      "GeneSetCohorted: 501 / 1000\n",
      "GeneSetCohorted_scored: 501 / 1000\n",
      "GeneSetCohorted: 501 / 1000\n",
      "GeneSetCohorted_scored: 501 / 1000\n",
      "GeneSetCohorted: 501 / 1000\n",
      "GeneSetCohorted_scored: 501 / 1000\n",
      "shuffleGeneSet for GeneSet 81/176 nperm: 1000\n",
      "GeneSetCohorted: 501 / 1000\n",
      "GeneSetCohorted_scored: 501 / 1000\n",
      "GeneSetCohorted: 501 / 1000\n",
      "GeneSetCohorted_scored: 501 / 1000\n",
      "GeneSetCohorted: 501 / 1000\n",
      "GeneSetCohorted_scored: 501 / 1000\n",
      "GeneSetCohorted: 501 / 1000\n",
      "GeneSetCohorted_scored: 501 / 1000\n",
      "GeneSetCohorted: 501 / 1000\n",
      "GeneSetCohorted_scored: 501 / 1000\n",
      "shuffleGeneSet for GeneSet 86/176 nperm: 1000\n",
      "GeneSetCohorted: 501 / 1000\n",
      "GeneSetCohorted_scored: 501 / 1000\n",
      "GeneSetCohorted: 501 / 1000\n",
      "GeneSetCohorted_scored: 501 / 1000\n",
      "GeneSetCohorted: 501 / 1000\n",
      "GeneSetCohorted_scored: 501 / 1000\n",
      "GeneSetCohorted: 501 / 1000\n",
      "GeneSetCohorted_scored: 501 / 1000\n",
      "GeneSetCohorted: 501 / 1000\n",
      "GeneSetCohorted_scored: 501 / 1000\n",
      "shuffleGeneSet for GeneSet 91/176 nperm: 1000\n",
      "GeneSetCohorted: 501 / 1000\n",
      "GeneSetCohorted_scored: 501 / 1000\n",
      "GeneSetCohorted: 501 / 1000\n",
      "GeneSetCohorted_scored: 501 / 1000\n",
      "GeneSetCohorted: 501 / 1000\n",
      "GeneSetCohorted_scored: 501 / 1000\n",
      "GeneSetCohorted: 501 / 1000\n",
      "GeneSetCohorted_scored: 501 / 1000\n",
      "GeneSetCohorted: 501 / 1000\n",
      "GeneSetCohorted_scored: 501 / 1000\n",
      "shuffleGeneSet for GeneSet 96/176 nperm: 1000\n",
      "GeneSetCohorted: 501 / 1000\n",
      "GeneSetCohorted_scored: 501 / 1000\n"
     ]
    },
    {
     "name": "stdout",
     "output_type": "stream",
     "text": [
      "GeneSetCohorted: 501 / 1000\n",
      "GeneSetCohorted_scored: 501 / 1000\n",
      "GeneSetCohorted: 501 / 1000\n",
      "GeneSetCohorted_scored: 501 / 1000\n",
      "GeneSetCohorted: 501 / 1000\n",
      "GeneSetCohorted_scored: 501 / 1000\n",
      "GeneSetCohorted: 501 / 1000\n",
      "GeneSetCohorted_scored: 501 / 1000\n",
      "shuffleGeneSet for GeneSet 101/176 nperm: 1000\n",
      "GeneSetCohorted: 501 / 1000\n",
      "GeneSetCohorted_scored: 501 / 1000\n",
      "GeneSetCohorted: 501 / 1000\n",
      "GeneSetCohorted_scored: 501 / 1000\n",
      "GeneSetCohorted: 501 / 1000\n",
      "GeneSetCohorted_scored: 501 / 1000\n",
      "GeneSetCohorted: 501 / 1000\n",
      "GeneSetCohorted_scored: 501 / 1000\n",
      "GeneSetCohorted: 501 / 1000\n",
      "GeneSetCohorted_scored: 501 / 1000\n",
      "shuffleGeneSet for GeneSet 106/176 nperm: 1000\n",
      "GeneSetCohorted: 501 / 1000\n",
      "GeneSetCohorted_scored: 501 / 1000\n",
      "GeneSetCohorted: 501 / 1000\n",
      "GeneSetCohorted_scored: 501 / 1000\n",
      "GeneSetCohorted: 501 / 1000\n",
      "GeneSetCohorted_scored: 501 / 1000\n",
      "GeneSetCohorted: 501 / 1000\n",
      "GeneSetCohorted_scored: 501 / 1000\n",
      "GeneSetCohorted: 501 / 1000\n",
      "GeneSetCohorted_scored: 501 / 1000\n",
      "shuffleGeneSet for GeneSet 111/176 nperm: 1000\n",
      "GeneSetCohorted: 501 / 1000\n",
      "GeneSetCohorted_scored: 501 / 1000\n",
      "GeneSetCohorted: 501 / 1000\n",
      "GeneSetCohorted_scored: 501 / 1000\n",
      "GeneSetCohorted: 501 / 1000\n",
      "GeneSetCohorted_scored: 501 / 1000\n",
      "GeneSetCohorted: 501 / 1000\n",
      "GeneSetCohorted_scored: 501 / 1000\n",
      "GeneSetCohorted: 501 / 1000\n",
      "GeneSetCohorted_scored: 501 / 1000\n",
      "shuffleGeneSet for GeneSet 116/176 nperm: 1000\n",
      "GeneSetCohorted: 501 / 1000\n",
      "GeneSetCohorted_scored: 501 / 1000\n",
      "GeneSetCohorted: 501 / 1000\n",
      "GeneSetCohorted_scored: 501 / 1000\n",
      "GeneSetCohorted: 501 / 1000\n",
      "GeneSetCohorted_scored: 501 / 1000\n",
      "GeneSetCohorted: 501 / 1000\n",
      "GeneSetCohorted_scored: 501 / 1000\n",
      "GeneSetCohorted: 501 / 1000\n",
      "GeneSetCohorted_scored: 501 / 1000\n",
      "shuffleGeneSet for GeneSet 121/176 nperm: 1000\n",
      "GeneSetCohorted: 501 / 1000\n",
      "GeneSetCohorted_scored: 501 / 1000\n",
      "GeneSetCohorted: 501 / 1000\n",
      "GeneSetCohorted_scored: 501 / 1000\n",
      "GeneSetCohorted: 501 / 1000\n",
      "GeneSetCohorted_scored: 501 / 1000\n",
      "GeneSetCohorted: 501 / 1000\n",
      "GeneSetCohorted_scored: 501 / 1000\n",
      "GeneSetCohorted: 501 / 1000\n",
      "GeneSetCohorted_scored: 501 / 1000\n",
      "shuffleGeneSet for GeneSet 126/176 nperm: 1000\n",
      "GeneSetCohorted: 501 / 1000\n",
      "GeneSetCohorted_scored: 501 / 1000\n",
      "GeneSetCohorted: 501 / 1000\n",
      "GeneSetCohorted_scored: 501 / 1000\n",
      "GeneSetCohorted: 501 / 1000\n",
      "GeneSetCohorted_scored: 501 / 1000\n",
      "GeneSetCohorted: 501 / 1000\n",
      "GeneSetCohorted_scored: 501 / 1000\n",
      "GeneSetCohorted: 501 / 1000\n",
      "GeneSetCohorted_scored: 501 / 1000\n",
      "shuffleGeneSet for GeneSet 131/176 nperm: 1000\n",
      "GeneSetCohorted: 501 / 1000\n",
      "GeneSetCohorted_scored: 501 / 1000\n",
      "GeneSetCohorted: 501 / 1000\n",
      "GeneSetCohorted_scored: 501 / 1000\n",
      "GeneSetCohorted: 501 / 1000\n",
      "GeneSetCohorted_scored: 501 / 1000\n",
      "GeneSetCohorted: 501 / 1000\n",
      "GeneSetCohorted_scored: 501 / 1000\n",
      "GeneSetCohorted: 501 / 1000\n",
      "GeneSetCohorted_scored: 501 / 1000\n",
      "shuffleGeneSet for GeneSet 136/176 nperm: 1000\n",
      "GeneSetCohorted: 501 / 1000\n",
      "GeneSetCohorted_scored: 501 / 1000\n",
      "GeneSetCohorted: 501 / 1000\n",
      "GeneSetCohorted_scored: 501 / 1000\n",
      "GeneSetCohorted: 501 / 1000\n",
      "GeneSetCohorted_scored: 501 / 1000\n",
      "GeneSetCohorted: 501 / 1000\n",
      "GeneSetCohorted_scored: 501 / 1000\n",
      "GeneSetCohorted: 501 / 1000\n",
      "GeneSetCohorted_scored: 501 / 1000\n",
      "shuffleGeneSet for GeneSet 141/176 nperm: 1000\n",
      "GeneSetCohorted: 501 / 1000\n",
      "GeneSetCohorted_scored: 501 / 1000\n",
      "GeneSetCohorted: 501 / 1000\n",
      "GeneSetCohorted_scored: 501 / 1000\n",
      "GeneSetCohorted: 501 / 1000\n",
      "GeneSetCohorted_scored: 501 / 1000\n",
      "GeneSetCohorted: 501 / 1000\n",
      "GeneSetCohorted_scored: 501 / 1000\n",
      "GeneSetCohorted: 501 / 1000\n",
      "GeneSetCohorted_scored: 501 / 1000\n",
      "shuffleGeneSet for GeneSet 146/176 nperm: 1000\n",
      "GeneSetCohorted: 501 / 1000\n",
      "GeneSetCohorted_scored: 501 / 1000\n",
      "GeneSetCohorted: 501 / 1000\n",
      "GeneSetCohorted_scored: 501 / 1000\n",
      "GeneSetCohorted: 501 / 1000\n",
      "GeneSetCohorted_scored: 501 / 1000\n",
      "GeneSetCohorted: 501 / 1000\n",
      "GeneSetCohorted_scored: 501 / 1000\n",
      "GeneSetCohorted: 501 / 1000\n",
      "GeneSetCohorted_scored: 501 / 1000\n",
      "shuffleGeneSet for GeneSet 151/176 nperm: 1000\n",
      "GeneSetCohorted: 501 / 1000\n",
      "GeneSetCohorted_scored: 501 / 1000\n",
      "GeneSetCohorted: 501 / 1000\n",
      "GeneSetCohorted_scored: 501 / 1000\n",
      "GeneSetCohorted: 501 / 1000\n",
      "GeneSetCohorted_scored: 501 / 1000\n",
      "GeneSetCohorted: 501 / 1000\n",
      "GeneSetCohorted_scored: 501 / 1000\n",
      "GeneSetCohorted: 501 / 1000\n",
      "GeneSetCohorted_scored: 501 / 1000\n",
      "shuffleGeneSet for GeneSet 156/176 nperm: 1000\n",
      "GeneSetCohorted: 501 / 1000\n",
      "GeneSetCohorted_scored: 501 / 1000\n",
      "GeneSetCohorted: 501 / 1000\n",
      "GeneSetCohorted_scored: 501 / 1000\n",
      "GeneSetCohorted: 501 / 1000\n",
      "GeneSetCohorted_scored: 501 / 1000\n",
      "GeneSetCohorted: 501 / 1000\n",
      "GeneSetCohorted_scored: 501 / 1000\n",
      "GeneSetCohorted: 501 / 1000\n",
      "GeneSetCohorted_scored: 501 / 1000\n",
      "shuffleGeneSet for GeneSet 161/176 nperm: 1000\n",
      "GeneSetCohorted: 501 / 1000\n",
      "GeneSetCohorted_scored: 501 / 1000\n",
      "GeneSetCohorted: 501 / 1000\n",
      "GeneSetCohorted_scored: 501 / 1000\n",
      "GeneSetCohorted: 501 / 1000\n",
      "GeneSetCohorted_scored: 501 / 1000\n",
      "GeneSetCohorted: 501 / 1000\n",
      "GeneSetCohorted_scored: 501 / 1000\n",
      "GeneSetCohorted: 501 / 1000\n",
      "GeneSetCohorted_scored: 501 / 1000\n",
      "shuffleGeneSet for GeneSet 166/176 nperm: 1000\n",
      "GeneSetCohorted: 501 / 1000\n",
      "GeneSetCohorted_scored: 501 / 1000\n",
      "GeneSetCohorted: 501 / 1000\n",
      "GeneSetCohorted_scored: 501 / 1000\n",
      "GeneSetCohorted: 501 / 1000\n",
      "GeneSetCohorted_scored: 501 / 1000\n",
      "GeneSetCohorted: 501 / 1000\n",
      "GeneSetCohorted_scored: 501 / 1000\n",
      "GeneSetCohorted: 501 / 1000\n",
      "GeneSetCohorted_scored: 501 / 1000\n",
      "shuffleGeneSet for GeneSet 171/176 nperm: 1000\n",
      "GeneSetCohorted: 501 / 1000\n",
      "GeneSetCohorted_scored: 501 / 1000\n",
      "GeneSetCohorted: 501 / 1000\n",
      "GeneSetCohorted_scored: 501 / 1000\n",
      "GeneSetCohorted: 501 / 1000\n",
      "GeneSetCohorted_scored: 501 / 1000\n",
      "GeneSetCohorted: 501 / 1000\n",
      "GeneSetCohorted_scored: 501 / 1000\n",
      "GeneSetCohorted: 501 / 1000\n",
      "GeneSetCohorted_scored: 501 / 1000\n",
      "shuffleGeneSet for GeneSet 176/176 nperm: 1000\n",
      "GeneSetCohorted: 501 / 1000\n",
      "GeneSetCohorted_scored: 501 / 1000\n",
      "29814    [INFO  ] - Creating marker selection reports ...\n",
      "29899    [INFO  ] - Creating FDR reports ...\n",
      "31380    [INFO  ] - Done FDR reports for positive phenotype\n",
      "31940    [INFO  ] - Done FDR reports for negative phenotype\n",
      "32035    [INFO  ] - Creating global reports ...\n",
      "32035    [INFO  ] - Done all reports!!\n",
      "Time taken: 31 secs\n"
     ]
    }
   ],
   "source": [
    "# To run GSEA command line, You need to specify the path to gsea-cli.sh\n",
    "run_GSEA(prerank_file_path=out_dir+prefix+'.rnk', out_dir=out_dir,\n",
    "         pathway_file='example/c2.cp.kegg.v2023.1.Hs.symbols.gmt', gsea_out_label=prefix,\n",
    "         min_size=15, max_size=500, gsea_cli_path='../../GSEA_cmd/gsea-cli.sh', method='cli')"
   ]
  },
  {
   "cell_type": "code",
   "execution_count": 4,
   "id": "82553708",
   "metadata": {
    "ExecuteTime": {
     "end_time": "2024-01-31T22:10:09.085955Z",
     "start_time": "2024-01-31T22:10:08.849999Z"
    },
    "scrolled": false
   },
   "outputs": [
    {
     "name": "stdout",
     "output_type": "stream",
     "text": [
      "53658 genes in the expression matrix\n",
      "KEGG_GLYCOSPHINGOLIPID_BIOSYNTHESIS_GLOBO_SERIES removed due to gene number\n",
      "KEGG_NON_HOMOLOGOUS_END_JOINING removed due to gene number\n",
      "KEGG_CIRCADIAN_RHYTHM_MAMMAL removed due to gene number\n",
      "KEGG_VALINE_LEUCINE_AND_ISOLEUCINE_BIOSYNTHESIS removed due to gene number\n",
      "KEGG_TAURINE_AND_HYPOTAURINE_METABOLISM removed due to gene number\n",
      "KEGG_FOLATE_BIOSYNTHESIS removed due to gene number\n",
      "KEGG_LIMONENE_AND_PINENE_DEGRADATION removed due to gene number\n",
      "KEGG_SULFUR_METABOLISM removed due to gene number\n",
      "KEGG_RIBOSOME removed due to gene number\n",
      "KEGG_PROTEASOME removed due to gene number\n"
     ]
    }
   ],
   "source": [
    "# To prune the pathways that have too few or too many genes:\n",
    "# please keep the min and max gene number setting same as GSEA \n",
    "pruned_pathway_dict, gene_universe = prune_gmt(file_name='example/c2.cp.kegg.v2023.1.Hs.symbols.gmt', \n",
    "                                        out_file_name=out_dir+'c2.cp.kegg.v2023.1.Hs.symbols.cleaned.gmt', \n",
    "                                        expr_matrix_file='example/example_data.txt', \n",
    "                                        min_gene_num=15, max_gene_num=500)"
   ]
  },
  {
   "cell_type": "code",
   "execution_count": 21,
   "id": "27924173",
   "metadata": {
    "ExecuteTime": {
     "end_time": "2024-01-31T22:10:20.644761Z",
     "start_time": "2024-01-31T22:10:20.512747Z"
    },
    "scrolled": false
   },
   "outputs": [
    {
     "name": "stdout",
     "output_type": "stream",
     "text": [
      "Based on:\n",
      "p-value <=  0.1\n",
      "adjusted p-value <=  0.1\n",
      "fold change threshold >=  1.5\n",
      "base Mean >=  2\n",
      "top N =  200\n",
      "200 up-regulated DEGs\n",
      "200 down-regulated DEGs\n"
     ]
    }
   ],
   "source": [
    "# To perform a pre-processing step (i.e. extracting the top DEGs from DESeq2 results) needed for ORA and Enrichr analyses : \n",
    "# By default the following thresholds will be used: pval_threshold=0.05, padj_threshold=0.05, fc_threshold=1, basemean_threshold=2.\n",
    "# but feel free to adjust the thresholds as needed and keep direction the same as before\n",
    "# For this toy example, the samples, we have selected a loose threshold of pval_threshold=0.1, padj_threshold=0.1, and fc_threshold=1.5\n",
    "deg_dict = extract_top_gene(deseq_result_file=out_dir+prefix+'.csv', \n",
    "                            num_gene=200, pval_threshold=0.1, padj_threshold=0.1,\n",
    "                            fc_threshold=1.5, basemean_threshold=2,\n",
    "                            direction=1)\n"
   ]
  },
  {
   "cell_type": "code",
   "execution_count": 20,
   "id": "5c3a30a1",
   "metadata": {
    "ExecuteTime": {
     "end_time": "2024-01-31T22:10:29.146344Z",
     "start_time": "2024-01-31T22:10:29.032628Z"
    },
    "scrolled": true
   },
   "outputs": [
    {
     "name": "stdout",
     "output_type": "stream",
     "text": [
      "Running ORA for genes in  up\n",
      "Results written to  example//cond1.vs.cond3.up.ora_result.txt\n",
      "********************\n",
      "Running ORA for genes in  down\n",
      "Results written to  example//cond1.vs.cond3.down.ora_result.txt\n",
      "********************\n"
     ]
    }
   ],
   "source": [
    "# To run ORA for up and down-regulated gene lists against the pathway file\n",
    "run_ora(pathway_dict=pruned_pathway_dict, deg_dict = deg_dict,\n",
    "        gene_universe_num=len(gene_universe), out_dir=out_dir, out_file_prefix=prefix)\n"
   ]
  },
  {
   "cell_type": "code",
   "execution_count": 21,
   "id": "4c814d45889a5864",
   "metadata": {
    "ExecuteTime": {
     "end_time": "2024-01-31T22:10:37.871734Z",
     "start_time": "2024-01-31T22:10:37.437195Z"
    }
   },
   "outputs": [
    {
     "name": "stdout",
     "output_type": "stream",
     "text": [
      "Running Enrichr for genes in  up\n",
      "example/enrichr_kegg_permutation_1000.txt does not exist, initializing permutation\n",
      "Permutation 0\n",
      "Permutation 50\n",
      "Permutation 100\n",
      "Permutation 150\n",
      "Permutation 200\n",
      "Permutation 250\n",
      "Permutation 300\n",
      "Permutation 350\n",
      "Permutation 400\n",
      "Permutation 450\n",
      "Permutation 500\n",
      "Permutation 550\n",
      "Permutation 600\n",
      "Permutation 650\n",
      "Permutation 700\n",
      "Permutation 750\n",
      "Permutation 800\n",
      "Permutation 850\n",
      "Permutation 900\n",
      "Permutation 950\n",
      "Permutation result written to  example/enrichr_kegg_permutation_1000.txt\n",
      "Results written to  example//cond1.vs.cond3.up.enrichr_result.txt\n",
      "********************\n",
      "Running Enrichr for genes in  down\n",
      "example/enrichr_kegg_permutation_1000.txt already exists, reading file now...\n",
      "Results written to  example//cond1.vs.cond3.down.enrichr_result.txt\n",
      "********************\n"
     ]
    }
   ],
   "source": [
    "# To run Enrichr :\n",
    "# if the permutation file already exists, it could be directly provided as permutation_file_name to save time\n",
    "run_enrichr(pathway_dict=pruned_pathway_dict, deg_dict=deg_dict,\n",
    "            gene_universe=gene_universe, out_file_prefix=prefix, \n",
    "            permutation_num=1000, permutation_file_name=out_dir+'enrichr_kegg_permutation_1000.txt',\n",
    "            out_dir=out_dir)"
   ]
  },
  {
   "cell_type": "markdown",
   "id": "9dab8b90",
   "metadata": {},
   "source": [
    "**Step 3. Combine the outputs from above methods using PET**\n"
   ]
  },
  {
   "cell_type": "code",
   "execution_count": 6,
   "id": "c0e43b4eb1a15d2f",
   "metadata": {
    "ExecuteTime": {
     "end_time": "2024-02-01T16:38:55.790931Z",
     "start_time": "2024-02-01T16:38:55.606782Z"
    }
   },
   "outputs": [
    {
     "name": "stdout",
     "output_type": "stream",
     "text": [
      "GSEA path was provided as file, GSEAPY used.\n",
      "For genes in  up direction, result files found: \n",
      "example/cond1.vs.cond3.up.ora_result.txt \n",
      " example/cond1.vs.cond3.up.enrichr_result.txt \n",
      " example/gseapy.gene_set.prerank.report.up.tmp.csv\n",
      "Calculating ora rank...\n",
      "Calculating enrichr rank...\n",
      "Calculating GSEA rank...\n",
      "Ensembling results...\n",
      "Results written to  example//cond1.vs.cond3.up.PET.txt\n",
      "For genes in  down direction, result files found: \n",
      "example/cond1.vs.cond3.down.ora_result.txt \n",
      " example/cond1.vs.cond3.down.enrichr_result.txt \n",
      " example/gseapy.gene_set.prerank.report.down.tmp.csv\n",
      "Calculating ora rank...\n",
      "Calculating enrichr rank...\n",
      "Calculating GSEA rank...\n",
      "Ensembling results...\n",
      "Results written to  example//cond1.vs.cond3.down.PET.txt\n"
     ]
    }
   ],
   "source": [
    "# To run PET when using GSEApy (default):\n",
    "run_PET(file_prefix=prefix, deg_dict=deg_dict, pathway_dict=pruned_pathway_dict, \n",
    "        result_dir=out_dir, gsea_path=out_dir+'gseapy.gene_set.prerank.report.csv', \n",
    "        gsea_pos_label='pos', out_dir=out_dir)"
   ]
  },
  {
   "cell_type": "code",
   "execution_count": 7,
   "id": "940fa83b19d73acb",
   "metadata": {
    "ExecuteTime": {
     "end_time": "2024-02-01T16:42:18.087692Z",
     "start_time": "2024-02-01T16:42:17.867663Z"
    }
   },
   "outputs": [
    {
     "name": "stdout",
     "output_type": "stream",
     "text": [
      "GSEA path was provided as directory, command line version used.\n",
      "For genes in  up direction, result files found: \n",
      "example/cond1.vs.cond3.up.ora_result.txt \n",
      " example/cond1.vs.cond3.up.enrichr_result.txt \n",
      " example/cond1.vs.cond3.GseaPreranked.1706807267627//tmp_result.up.txt\n",
      "Calculating ora rank...\n",
      "Calculating enrichr rank...\n",
      "Calculating GSEA rank...\n",
      "Ensembling results...\n",
      "Results written to  example//cond1.vs.cond3.up.PET.txt\n",
      "For genes in  down direction, result files found: \n",
      "example/cond1.vs.cond3.down.ora_result.txt \n",
      " example/cond1.vs.cond3.down.enrichr_result.txt \n",
      " example/cond1.vs.cond3.GseaPreranked.1706807267627//tmp_result.down.txt\n",
      "Calculating ora rank...\n",
      "Calculating enrichr rank...\n",
      "Calculating GSEA rank...\n",
      "Ensembling results...\n",
      "Results written to  example//cond1.vs.cond3.down.PET.txt\n"
     ]
    }
   ],
   "source": [
    "# Alternatively, To run PET when using GSEA command line:\n",
    "# you need to specify the gsea_path as the path to the GSEA output directory\n",
    "run_PET(file_prefix=prefix, deg_dict=deg_dict, pathway_dict=pruned_pathway_dict, \n",
    "        result_dir=out_dir, gsea_path='example/cond1.vs.cond3.GseaPreranked.1706807267627/', \n",
    "        gsea_pos_label='pos', out_dir=out_dir)"
   ]
  },
  {
   "cell_type": "markdown",
   "id": "dde1977c",
   "metadata": {},
   "source": [
    "***\n",
    "The PET output is a tab-delimited text file. Users may sort the output based on their preferred criteria. \n",
    "By default, we have ordered the output based on the **average rank**, which was found to be the most reliable metric according to Benchmark."
   ]
  },
  {
   "cell_type": "code",
   "execution_count": null,
   "id": "1ffc4888",
   "metadata": {},
   "outputs": [],
   "source": []
  }
 ],
 "metadata": {
  "kernelspec": {
   "display_name": "pt",
   "language": "python",
   "name": "pt"
  },
  "language_info": {
   "codemirror_mode": {
    "name": "ipython",
    "version": 3
   },
   "file_extension": ".py",
   "mimetype": "text/x-python",
   "name": "python",
   "nbconvert_exporter": "python",
   "pygments_lexer": "ipython3",
   "version": "3.10.12"
  }
 },
 "nbformat": 4,
 "nbformat_minor": 5
}
