{
 "cells": [
  {
   "cell_type": "markdown",
   "id": "1dba7033",
   "metadata": {},
   "source": [
    "This notebook is a tutorial for running PET.\n",
    "From the benchmark, we identified the optimal setting for running PET, which consists of 3 steps:\n",
    "1. perform differential expression analysis with DESeq2\n",
    "2. perform pathway analysis with underlying methods\n",
    "3. combine the result using PET\n",
    "\n",
    "File required:\n",
    "1. Data matrix, raw read count strongly recommended.\n",
    "2. Pathway file, in gmt format.\n",
    "\n",
    "Example data:\\\n",
    "We provided an example read count matrix text file and gmt pathway file (KEGG) as an example.\n",
    "\n",
    "Notes:\\\n",
    "Though template script and command for running GSEA and DESeq2 are provided, users should feel free to use any differential expression analysis methods and GSEA mode as wanted, as long as the output format is consistent for correctly parsing the results."
   ]
  },
  {
   "cell_type": "code",
   "execution_count": null,
   "outputs": [],
   "source": [
    "%load_ext autoreload\n",
    "%autoreload 2"
   ],
   "metadata": {
    "collapsed": false
   },
   "id": "a17ff243e322b5b0"
  },
  {
   "cell_type": "code",
   "execution_count": 12,
   "id": "e4c4e48a",
   "metadata": {
    "scrolled": false,
    "ExecuteTime": {
     "end_time": "2024-01-30T20:20:47.857973Z",
     "start_time": "2024-01-30T20:20:47.791029Z"
    }
   },
   "outputs": [],
   "source": [
    "from fisher_test import run_fisher_test\n",
    "from enrichr import run_enrichr\n",
    "from PET import run_PET\n",
    "from helper import *\n",
    "import os, sys\n",
    "import numpy as np\n",
    "import scipy.stats as st"
   ]
  },
  {
   "cell_type": "code",
   "execution_count": null,
   "id": "56a0face",
   "metadata": {
    "scrolled": false
   },
   "outputs": [],
   "source": [
    "# create result directory\n",
    "out_dir = 'example_new/'\n",
    "create_dir(out_dir)"
   ]
  },
  {
   "cell_type": "markdown",
   "id": "4628400f",
   "metadata": {},
   "source": [
    "**Step 1. Differential expression analysis with DESeq2**\\\n",
    "Based on Benchmark, the best way to run any pathway analysis method is to provide a pre-ranked gene list to the method. Here, we'll use the p-value from DESeq2 analysis results as the input to next step, which was shown to have superior performance than other ranking metrics.\\\n",
    "\\\n",
    "The template DESeq2 script in R is provided in deseq2_template.R. PyDESeq2 will be automatically installed when installing PET environment. Be default, DESeq2 will be executed through R script, if python version preferred, please specify method='python'.\\\n",
    "\\\n",
    "Note: **Raw read count** is required for DESeq2, first column as gene name, rest column as cond1+cond2+...+condN expression **in order**. Please provide the order and sample number of groups/conditions in contrast file, in format 'condition_name\\tsample_num' for each condition in each row."
   ]
  },
  {
   "cell_type": "code",
   "execution_count": 13,
   "outputs": [
    {
     "name": "stdout",
     "output_type": "stream",
     "text": [
      "DESeq2 script written to example_new/deseq_analysis.all.R\n",
      "Start running R script\n"
     ]
    },
    {
     "name": "stderr",
     "output_type": "stream",
     "text": [
      "Loading required package: S4Vectors\n",
      "Loading required package: stats4\n",
      "Loading required package: BiocGenerics\n",
      "\n",
      "Attaching package: ‘BiocGenerics’\n",
      "\n",
      "The following objects are masked from ‘package:stats’:\n",
      "\n",
      "    IQR, mad, sd, var, xtabs\n",
      "\n",
      "The following objects are masked from ‘package:base’:\n",
      "\n",
      "    anyDuplicated, append, as.data.frame, basename, cbind, colnames,\n",
      "    dirname, do.call, duplicated, eval, evalq, Filter, Find, get, grep,\n",
      "    grepl, intersect, is.unsorted, lapply, Map, mapply, match, mget,\n",
      "    order, paste, pmax, pmax.int, pmin, pmin.int, Position, rank,\n",
      "    rbind, Reduce, rownames, sapply, setdiff, sort, table, tapply,\n",
      "    union, unique, unsplit, which.max, which.min\n",
      "\n",
      "\n",
      "Attaching package: ‘S4Vectors’\n",
      "\n",
      "The following objects are masked from ‘package:base’:\n",
      "\n",
      "    expand.grid, I, unname\n",
      "\n",
      "Loading required package: IRanges\n",
      "Loading required package: GenomicRanges\n",
      "Loading required package: GenomeInfoDb\n",
      "Loading required package: SummarizedExperiment\n",
      "Loading required package: MatrixGenerics\n",
      "Loading required package: matrixStats\n",
      "\n",
      "Attaching package: ‘MatrixGenerics’\n",
      "\n",
      "The following objects are masked from ‘package:matrixStats’:\n",
      "\n",
      "    colAlls, colAnyNAs, colAnys, colAvgsPerRowSet, colCollapse,\n",
      "    colCounts, colCummaxs, colCummins, colCumprods, colCumsums,\n",
      "    colDiffs, colIQRDiffs, colIQRs, colLogSumExps, colMadDiffs,\n",
      "    colMads, colMaxs, colMeans2, colMedians, colMins, colOrderStats,\n",
      "    colProds, colQuantiles, colRanges, colRanks, colSdDiffs, colSds,\n",
      "    colSums2, colTabulates, colVarDiffs, colVars, colWeightedMads,\n",
      "    colWeightedMeans, colWeightedMedians, colWeightedSds,\n",
      "    colWeightedVars, rowAlls, rowAnyNAs, rowAnys, rowAvgsPerColSet,\n",
      "    rowCollapse, rowCounts, rowCummaxs, rowCummins, rowCumprods,\n",
      "    rowCumsums, rowDiffs, rowIQRDiffs, rowIQRs, rowLogSumExps,\n",
      "    rowMadDiffs, rowMads, rowMaxs, rowMeans2, rowMedians, rowMins,\n",
      "    rowOrderStats, rowProds, rowQuantiles, rowRanges, rowRanks,\n",
      "    rowSdDiffs, rowSds, rowSums2, rowTabulates, rowVarDiffs, rowVars,\n",
      "    rowWeightedMads, rowWeightedMeans, rowWeightedMedians,\n",
      "    rowWeightedSds, rowWeightedVars\n",
      "\n",
      "Loading required package: Biobase\n",
      "Welcome to Bioconductor\n",
      "\n",
      "    Vignettes contain introductory material; view with\n",
      "    'browseVignettes()'. To cite Bioconductor, see\n",
      "    'citation(\"Biobase\")', and for packages 'citation(\"pkgname\")'.\n",
      "\n",
      "\n",
      "Attaching package: ‘Biobase’\n",
      "\n",
      "The following object is masked from ‘package:MatrixGenerics’:\n",
      "\n",
      "    rowMedians\n",
      "\n",
      "The following objects are masked from ‘package:matrixStats’:\n",
      "\n",
      "    anyMissing, rowMedians\n",
      "\n"
     ]
    },
    {
     "name": "stdout",
     "output_type": "stream",
     "text": [
      "class: DESeqDataSet \n",
      "dim: 53657 10 \n",
      "metadata(1): version\n",
      "assays(1): counts\n",
      "rownames(53657): TSPAN6 TNMD ... LINC01144 AC007389.5\n",
      "rowData names(0):\n",
      "colnames(10): TCGA.AA.3850 TCGA.AA.3845 ... TCGA.DM.A1HA TCGA.DM.A1HB\n",
      "colData names(1): condition\n"
     ]
    },
    {
     "name": "stderr",
     "output_type": "stream",
     "text": [
      "estimating size factors\n",
      "estimating dispersions\n",
      "gene-wise dispersion estimates\n",
      "mean-dispersion relationship\n",
      "final dispersion estimates\n",
      "fitting model and testing\n"
     ]
    },
    {
     "name": "stdout",
     "output_type": "stream",
     "text": [
      "[1] \"Comparing cond1 vs. cond2\"\n",
      "[1] \"Result saved to  example_new//cond1.vs.cond2.csv\"\n",
      "[1] \"Comparing cond1 vs. cond3\"\n",
      "[1] \"Result saved to  example_new//cond1.vs.cond3.csv\"\n",
      "[1] \"Comparing cond2 vs. cond3\"\n",
      "[1] \"Result saved to  example_new//cond2.vs.cond3.csv\"\n",
      "Analysis Done!\n"
     ]
    }
   ],
   "source": [
    "# run differential expression analysis through DESeq2  R version\n",
    "# if only want one comparison saved, please provide group=[condition1, condition2] result_file_path\n",
    "# By default, PET will save all comparisons results to result_dir_path\n",
    "run_DEseq2(expr_file=out_dir+'example_data.txt', contrast_matrix_file='example_contrast.txt', result_dir_path=out_dir, method='R', script_file_name=out_dir+'deseq_analysis.all.R')"
   ],
   "metadata": {
    "collapsed": false,
    "ExecuteTime": {
     "end_time": "2024-01-30T20:21:26.697184Z",
     "start_time": "2024-01-30T20:20:50.877817Z"
    }
   },
   "id": "31a80b123bc0b83"
  },
  {
   "cell_type": "code",
   "execution_count": null,
   "outputs": [],
   "source": [
    "# Alternatively, use python version DESeq2 "
   ],
   "metadata": {
    "collapsed": false
   },
   "id": "7f04ede0630d2804"
  },
  {
   "cell_type": "code",
   "execution_count": null,
   "id": "ca355d66",
   "metadata": {
    "scrolled": false
   },
   "outputs": [],
   "source": [
    "# extract DESeq2 result, CSV file only, to .rnk file for GSEA, please do check the direction of DESeq2 result (log2FoldChange column)\n",
    "# if log2FoldChange>=0 means up-regulation, keep direction=1; otherwise, pass direction=-1\n",
    "\n",
    "generate_rank_file(deseq_result_file=out_dir+'con', out_file=out_dir+'prerank.rnk', direction=1)"
   ]
  },
  {
   "cell_type": "code",
   "execution_count": null,
   "id": "7fbae8d7",
   "metadata": {
    "scrolled": true
   },
   "outputs": [],
   "source": [
    "# To run GSEA, please download GSEA command line tool from here: http://www.gsea-msigdb.org/gsea/downloads.jsp\n",
    "# please change the gsea-cli.sh pathway as needed\n",
    "! ~/GSEA_test/GSEA_cmd/gsea-cli.sh GSEAPreranked -gmx example/c2.cp.kegg.v2023.1.Hs.symbols.gmt -collapse No_Collapse -mode Max_probe -norm meandiv -nperm 1000 -rnk example/prerank.rnk  -scoring_scheme weighted -rpt_label example_test   -create_svgs false -include_only_symbols true -make_sets true -plot_top_x 5 -rnd_seed timestamp -set_max 500 -set_min 15 -zip_report false -out example/  "
   ]
  },
  {
   "cell_type": "markdown",
   "id": "dd260f84",
   "metadata": {},
   "source": [
    "Before running other methods, we shall prune the pathways, which will drop pathways with gene_num > max_num and gene_num < min_num and also remove any gene that's not present in the expression matrix."
   ]
  },
  {
   "cell_type": "code",
   "execution_count": null,
   "id": "82553708",
   "metadata": {
    "scrolled": false
   },
   "outputs": [],
   "source": [
    "# please keep the gene number setting same as GSEA command\n",
    "pruned_pathway_dict, gene_universe = prune_gmt(file_name='example/c2.cp.kegg.v2023.1.Hs.symbols.gmt', \n",
    "                                        out_file_name='example/c2.cp.kegg.v2023.1.Hs.symbols.cleaned.gmt', \n",
    "                                        expr_matrix_file='example/example_data.txt', \n",
    "                                        min_gene_num=15, max_gene_num=500)"
   ]
  },
  {
   "cell_type": "markdown",
   "id": "0118934f",
   "metadata": {},
   "source": [
    "Fisher test takes a set gene of interest and a pathway file (dict only here). We'll perform this step for both top up and down-regulated genes, sorted by DESeq2 result p-value."
   ]
  },
  {
   "cell_type": "code",
   "execution_count": null,
   "id": "27924173",
   "metadata": {
    "scrolled": false
   },
   "outputs": [],
   "source": [
    "# for extracting the top DEGs, we'll simply query the rank file here\n",
    "up_regulated_gene_set = extract_top_gene(rank_file='example/prerank.rnk', num_gene=200, direction=1)\n",
    "down_regulated_gene_set = extract_top_gene(rank_file='example/prerank.rnk', num_gene=200, direction=-1)"
   ]
  },
  {
   "cell_type": "code",
   "execution_count": null,
   "id": "5c3a30a1",
   "metadata": {
    "scrolled": true
   },
   "outputs": [],
   "source": [
    "# run fisher test for both sets of genes against the pathway file\n",
    "run_fisher_test(pathway_dict=pruned_pathway_dict, gene_set=up_regulated_gene_set, \n",
    "                gene_universe_num=len(gene_universe), out_file_name='example/fisher_up.txt')\n",
    "run_fisher_test(pathway_dict=pruned_pathway_dict, gene_set=down_regulated_gene_set, \n",
    "                gene_universe_num=len(gene_universe), out_file_name='example/fisher_down.txt')"
   ]
  },
  {
   "cell_type": "markdown",
   "id": "751382f7",
   "metadata": {},
   "source": [
    "Running enrichr is similar to run fisher test, which requires a set of genes of interest and a pathway file.\\\n",
    "To caculate the final enrichment score, enrichr requires one step of permutation, **we recommend to set perm_num to 1000**.\\\n",
    "If the permutation file already exists, we'll use the existing one; if not, a new permutation will be performed. **NOTE**: the permutaiton step might take some time."
   ]
  },
  {
   "cell_type": "code",
   "execution_count": null,
   "id": "26b6c8cf",
   "metadata": {
    "scrolled": true
   },
   "outputs": [],
   "source": [
    "run_enrichr(pathway_dict=pruned_pathway_dict, gene_set=up_regulated_gene_set,\n",
    "            gene_universe=gene_universe, out_file_name='example/enrichr_up.txt', \n",
    "            permutation_num=1000, permutation_file_name='example/enrichr_kegg_permutation_1000.txt')\n",
    "run_enrichr(pathway_dict=pruned_pathway_dict, gene_set=down_regulated_gene_set,\n",
    "            gene_universe=gene_universe, out_file_name='example/enrichr_down.txt', \n",
    "            permutation_num=1000, permutation_file_name='example/enrichr_kegg_permutation_1000.txt')"
   ]
  },
  {
   "cell_type": "markdown",
   "id": "9dab8b90",
   "metadata": {},
   "source": [
    "After getting results from three underlying methods, the last step is to run PET. We'll perform this step for both up and down-regulated genes. "
   ]
  },
  {
   "cell_type": "code",
   "execution_count": null,
   "id": "74a85257",
   "metadata": {
    "scrolled": false
   },
   "outputs": [],
   "source": [
    "run_PET(fisher_result_file='example/fisher_up.txt', enrichr_result_file= 'example/enrichr_up.txt', \n",
    "        gsea_result_dir='example/example_test.GseaPreranked.1678566691197/', gsea_label='pos', \n",
    "        pathway_dict=pruned_pathway_dict, result_file='example/PET_output_enriched_poor_survival.txt')\n",
    "\n",
    "run_PET(fisher_result_file='example/fisher_down.txt', enrichr_result_file= 'example/enrichr_down.txt', \n",
    "        gsea_result_dir='example/example_test.GseaPreranked.1678566691197/', gsea_label='neg', \n",
    "        pathway_dict=pruned_pathway_dict, result_file='example/PET_output_enriched_better_survival.txt')\n"
   ]
  },
  {
   "cell_type": "markdown",
   "id": "dde1977c",
   "metadata": {},
   "source": [
    "The results of PET is a tab-delimited text file, used could choose to sort the results based on their preferred criteria. Based on the benchmark we developed, the most reliable result would be sorting the pathways based on **average rank**, which by default generates the PET rank. At the same time, the significance PET FDR is also a strong indicator in the analysis."
   ]
  },
  {
   "cell_type": "code",
   "execution_count": null,
   "id": "6e93de07",
   "metadata": {},
   "outputs": [],
   "source": []
  }
 ],
 "metadata": {
  "kernelspec": {
   "name": "pt",
   "language": "python",
   "display_name": "pt"
  },
  "language_info": {
   "codemirror_mode": {
    "name": "ipython",
    "version": 3
   },
   "file_extension": ".py",
   "mimetype": "text/x-python",
   "name": "python",
   "nbconvert_exporter": "python",
   "pygments_lexer": "ipython3",
   "version": "3.9.13"
  }
 },
 "nbformat": 4,
 "nbformat_minor": 5
}
